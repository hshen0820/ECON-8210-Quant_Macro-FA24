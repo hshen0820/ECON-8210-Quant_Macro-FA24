{
 "cells": [
  {
   "cell_type": "markdown",
   "metadata": {},
   "source": [
    "# Econ 8210 Quant Macro, Homework 1\n",
    "## Part 3 - Dynamic Programming\n",
    "Haosi Shen, Fall 2024"
   ]
  },
  {
   "cell_type": "markdown",
   "metadata": {},
   "source": [
    "Consider the following model. There is a representative household with preferences over private consumption $c_t$, government consumption $g_t$, and labor $l_t$:\n",
    "\n",
    "\\begin{equation*}\n",
    "\\mathbb{E}_0 \\sum_{t=0}^{\\infty} 0.97^t \\Big( \\log{c_t}+0.2\\log{g_t} -\\frac{l_t^2}{2} \\Big)\n",
    "\\end{equation*}\n",
    "\n",
    "The household consumes, saves, works, and pays labor taxes, with a budget constraint:\n",
    "\n",
    "\\begin{equation*}\n",
    "c_t + i_t = (1-\\tau_t)w_t l_t + r_t k_t\n",
    "\\end{equation*}"
   ]
  },
  {
   "cell_type": "code",
   "execution_count": null,
   "metadata": {},
   "outputs": [],
   "source": []
  }
 ],
 "metadata": {
  "kernelspec": {
   "display_name": "Python 3",
   "language": "python",
   "name": "python3"
  },
  "language_info": {
   "name": "python",
   "version": "3.12.7"
  }
 },
 "nbformat": 4,
 "nbformat_minor": 2
}

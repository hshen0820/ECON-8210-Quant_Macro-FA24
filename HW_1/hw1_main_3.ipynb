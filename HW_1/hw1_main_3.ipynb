{
 "cells": [
  {
   "cell_type": "markdown",
   "metadata": {},
   "source": [
    "# Econ 8210 Quant Macro, Homework 1\n",
    "## Part 3 - Dynamic Programming\n",
    "Haosi Shen, Fall 2024"
   ]
  },
  {
   "cell_type": "code",
   "execution_count": 2,
   "metadata": {},
   "outputs": [],
   "source": [
    "# Housekeeping\n",
    "import numpy as np\n",
    "import pandas as pd\n",
    "import math\n",
    "import time\n",
    "import torch\n",
    "\n",
    "np.random.seed(42) "
   ]
  },
  {
   "cell_type": "markdown",
   "metadata": {},
   "source": [
    "Consider the following model. There is a representative household with preferences over private consumption $c_t$, government consumption $g_t$, and labor $l_t$:\n",
    "\n",
    "\\begin{equation*}\n",
    "\\mathbb{E}_0 \\sum_{t=0}^{\\infty} 0.97^t \\Big( \\log{c_t}+0.2\\log{g_t} -\\frac{l_t^2}{2} \\Big)\n",
    "\\end{equation*}\n",
    "\n",
    "The household consumes, saves, works, and pays labor taxes, with a budget constraint:\n",
    "\n",
    "\\begin{equation*}\n",
    "c_t + i_t = (1-\\tau_t)w_t l_t + r_t k_t\n",
    "\\end{equation*}\n",
    "\n",
    "where the tax rate follows a 3-state Markov chain that takes values in:\n",
    "\\begin{equation*}\n",
    "\\tau_t \\in \\{0.20, 0.25, 0.30\\}\n",
    "\\end{equation*}\n",
    "\\end{pmatrix}"
   ]
  },
  {
   "cell_type": "markdown",
   "metadata": {},
   "source": [
    "There is a production function:\n",
    "\\begin{equation*}\n",
    "c_t + i_t + g_t = e^{z_t} k_{t}^{0.33} l_{t}^{0.67}\n",
    "\\end{equation*}\n",
    "\n",
    "with a law of motion for capital with investment adjustment costs:\n",
    "\\begin{equation*}\n",
    "k_{t+1} = 0.9 k_t + \\Big(1-0.05 \\big(\\frac{i_t}{i_{t-1}}-1\\big)^2 \\Big) i_t\n",
    "\\end{equation*}\n",
    "\n",
    "and a technology level $z_t$ that follows a 5-state Markov chain that takes values in:\n",
    "\\begin{equation*}\n",
    "z_t \\in \\{−0.0673, −0.0336, 0, 0.0336, 0.0673\\}\n",
    "\\end{equation*}\n",
    "\n",
    "Finally, there is a government that uses taxes to pay for government consumption with a\n",
    "balanced budget period by period:\n",
    "\\begin{equation*}\n",
    "g_t = \\tau_t w_t l_t\n",
    "\\end{equation*}"
   ]
  },
  {
   "cell_type": "code",
   "execution_count": 3,
   "metadata": {},
   "outputs": [],
   "source": [
    "# ===================== DEFINE PARAMETERS =====================\n",
    "beta = 0.97  # time discount factor\n",
    "alpha = 0.33  # capital share\n",
    "delta = 0.1  # capital depreciation rate\n",
    "theta_c = 0.2  # weight on govt consumption in util\n",
    "k_ss = 1.0  # steady-state capital (init guess)\n",
    "i_ss = 0.1  # steady-state investment (init guess)\n",
    "\n",
    "# Tax rates and transition matrix\n",
    "tau_values = np.array([0.2, 0.25, 0.3])\n",
    "tau_trans = np.array([[0.9, 0.1, 0.0],\n",
    "                      [0.05, 0.9, 0.05],\n",
    "                      [0.0, 0.1, 0.9]])\n",
    "\n",
    "# Technology levels and transition matrix\n",
    "z_values = np.array([-0.0673, -0.0336, 0, 0.0336, 0.0673])\n",
    "z_trans = np.array([[0.9727, 0.0273, 0, 0, 0],\n",
    "                    [0.0041, 0.9806, 0.0153, 0, 0],\n",
    "                    [0, 0.0082, 0.9836, 0.0082, 0],\n",
    "                    [0, 0, 0.0153, 0.9806, 0.0041],\n",
    "                    [0, 0, 0, 0.0273, 0.9727]])\n"
   ]
  },
  {
   "cell_type": "markdown",
   "metadata": {},
   "source": []
  }
 ],
 "metadata": {
  "kernelspec": {
   "display_name": "Python 3",
   "language": "python",
   "name": "python3"
  },
  "language_info": {
   "codemirror_mode": {
    "name": "ipython",
    "version": 3
   },
   "file_extension": ".py",
   "mimetype": "text/x-python",
   "name": "python",
   "nbconvert_exporter": "python",
   "pygments_lexer": "ipython3",
   "version": "3.12.7"
  }
 },
 "nbformat": 4,
 "nbformat_minor": 2
}

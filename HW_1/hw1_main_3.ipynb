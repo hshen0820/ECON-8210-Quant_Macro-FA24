{
 "cells": [
  {
   "cell_type": "markdown",
   "metadata": {},
   "source": [
    "# Econ 8210 Quant Macro, Homework 1\n",
    "## Part 3 - Dynamic Programming\n",
    "Haosi Shen, Fall 2024"
   ]
  },
  {
   "cell_type": "code",
   "execution_count": 1,
   "metadata": {},
   "outputs": [],
   "source": [
    "# Housekeeping\n",
    "import numpy as np\n",
    "import pandas as pd\n",
    "import math\n",
    "import time\n",
    "import torch\n",
    "\n",
    "np.random.seed(42) "
   ]
  },
  {
   "cell_type": "markdown",
   "metadata": {},
   "source": [
    "Consider the following model. There is a representative household with preferences over private consumption $c_t$, government consumption $g_t$, and labor $l_t$:\n",
    "\n",
    "\\begin{equation*}\n",
    "\\mathbb{E}_0 \\sum_{t=0}^{\\infty} 0.97^t \\Big( \\log{c_t}+0.2\\log{g_t} -\\frac{l_t^2}{2} \\Big)\n",
    "\\end{equation*}\n",
    "\n",
    "The household consumes, saves, works, and pays labor taxes, with a budget constraint:\n",
    "\n",
    "\\begin{equation*}\n",
    "c_t + i_t = (1-\\tau_t)w_t l_t + r_t k_t\n",
    "\\end{equation*}\n",
    "\n",
    "where the tax rate follows a 3-state Markov chain that takes values in:\n",
    "\\begin{equation*}\n",
    "\\tau_t \\in \\{0.20, 0.25, 0.30\\}\n",
    "\\end{equation*}\n"
   ]
  },
  {
   "cell_type": "markdown",
   "metadata": {},
   "source": [
    "There is a production function:\n",
    "\\begin{equation*}\n",
    "c_t + i_t + g_t = e^{z_t} k_{t}^{0.33} l_{t}^{0.67}\n",
    "\\end{equation*}\n",
    "\n",
    "with a law of motion for capital with investment adjustment costs:\n",
    "\\begin{equation*}\n",
    "k_{t+1} = 0.9 k_t + \\Big(1-0.05 \\big(\\frac{i_t}{i_{t-1}}-1\\big)^2 \\Big) i_t\n",
    "\\end{equation*}\n",
    "\n",
    "and a technology level $z_t$ that follows a 5-state Markov chain that takes values in:\n",
    "\\begin{equation*}\n",
    "z_t \\in \\{−0.0673, −0.0336, 0, 0.0336, 0.0673\\}\n",
    "\\end{equation*}\n",
    "\n",
    "Finally, there is a government that uses taxes to pay for government consumption with a\n",
    "balanced budget period by period:\n",
    "\\begin{equation*}\n",
    "g_t = \\tau_t w_t l_t\n",
    "\\end{equation*}"
   ]
  },
  {
   "cell_type": "markdown",
   "metadata": {},
   "source": [
    "### Social Planner's Problem\n",
    "\n",
    "The social planner solves\n",
    "\n",
    "\\begin{equation*}\n",
    "\\max_{\\{c_t, l_t, i_t\\}} \\mathbb{E}_0 \\left[ \\sum_{t=0}^{\\infty} \\beta^t \\Big( \\log{c_t}+0.2\\log{g_t} -\\frac{l_t^2}{2} \\Big) \\right]\n",
    "\\end{equation*}\n",
    "subject to:\n",
    "\\begin{align*}\n",
    "c_t + i_t + \\tau_t w_t l_t &= e^{z_t} k_{t}^{\\alpha} l_{t}^{1-\\alpha} \\\\\n",
    "k_{t+1} &= (1-\\delta) k_t + \\Big(1-0.05 \\big(\\frac{i_t}{i_{t-1}}-1\\big)^2 \\Big) i_t\n",
    "\\end{align*}\n",
    "where $\\beta = 0.97,\\; \\alpha=0.33,\\;\\delta=0.1 $.\n",
    "\n",
    "**Recursive Formulation**\n",
    "> *State Variables*: $\\; k_t,\\; i_{t-1},\\; \\tau_t,\\; z_t$ \\\n",
    "> *Control Variables*: $\\; c_t,\\; i_t,\\; l_t$\n",
    "\n",
    "**Bellman Equation**\n",
    "\n",
    "\\begin{equation*}\n",
    "V(k,i_{-1},\\tau,z) = \\max_{c,l,i}\\; \\left\\{ U(c,l) + \\beta \\sum_{\\tau', z'} \\pi(\\tau', z' | \\tau, z) V(k',i,\\tau',z') \\right\\}\n",
    "\\end{equation*}\n",
    "\n",
    "where:\n",
    "\\begin{align*}\n",
    "k' &= (1-\\delta) k + \\Big(1-0.05 \\big(\\frac{i}{i_{-1}}-1\\big)^2 \\Big) i \\\\\n",
    "U(c,l) &= \\log{c} + 0.2 \\log{\\big(\\tau(1-\\alpha)e^z k^\\alpha l^{1-\\alpha} \\big)}-\\frac{l^2}{2} \\\\\n",
    "c &= \\big(1-\\tau(1-\\alpha)\\big) e^z k^\\alpha l^{1-\\alpha} -i\n",
    "\\end{align*}\n",
    "\n",
    "**Revised Bellman Equation**\n",
    "\n",
    "\\begin{align*}\n",
    "V(k,i_{-1},\\tau,z) = \\max_{l,i}\\; & \\Bigg\\{ \\log{\\bigg(\\big(1-\\tau(1-\\alpha)\\big) e^z k^\\alpha l^{1-\\alpha} -i\\bigg)} + 0.2 \\log{\\big(\\tau(1-\\alpha)e^z k^\\alpha l^{1-\\alpha} \\big)}-\\frac{l^2}{2} \\\\\n",
    "& + \\beta \\sum_{\\tau', z'} \\pi(\\tau', z' | \\tau, z)\\; V\\bigg((1-\\delta) k + \\Big(1-0.05 \\big(\\frac{i}{i_{-1}}-1\\big)^2 \\Big) i,i,\\tau',z'\\bigg) \\Bigg\\}\n",
    "\\end{align*}\n"
   ]
  },
  {
   "cell_type": "markdown",
   "metadata": {},
   "source": [
    "### Deterministic Steady State"
   ]
  },
  {
   "cell_type": "markdown",
   "metadata": {},
   "source": [
    "To solve for $c_{ss}, l_{ss}, i_{ss}, k_{ss}$, we solve the following system of equations\n",
    "\n",
    "* Production Function\n",
    "$$ y_{ss} = k_{ss}^{\\alpha} l_{ss}^{1-\\alpha} $$    \n",
    "* Resource Constraint\n",
    "$$ c_{ss}+0.1 k_{ss} + 0.25 w_{ss}l_{ss} = k_{ss}^{\\alpha} l_{ss}^{1-\\alpha} $$\n",
    "* Steady State Investment\n",
    "$$ i_{ss} = 0.1 k_{ss} $$\n",
    "* Steady State Wage\n",
    "$$ w_{ss}=(1-\\alpha)\\Big(\\frac{k_{ss}}{l_{ss}}\\Big)^{\\alpha} $$\n",
    "* Optimal Labor\n",
    "$$  $$"
   ]
  },
  {
   "cell_type": "code",
   "execution_count": 2,
   "metadata": {},
   "outputs": [],
   "source": [
    "# ===================== DEFINE PARAMETERS =====================\n",
    "beta = 0.97  # time discount factor\n",
    "alpha = 0.33  # capital share\n",
    "delta = 0.1  # capital depreciation rate\n",
    "theta_c = 0.2  # weight on govt consumption in util\n",
    "k_ss = 1.0  # steady-state capital (init guess)\n",
    "i_ss = 0.1  # steady-state investment (init guess)\n",
    "\n",
    "# Tax rates and transition matrix\n",
    "tau_values = np.array([0.2, 0.25, 0.3])\n",
    "tau_trans = np.array([[0.9, 0.1, 0.0],\n",
    "                      [0.05, 0.9, 0.05],\n",
    "                      [0.0, 0.1, 0.9]])\n",
    "\n",
    "# Technology levels and transition matrix\n",
    "z_values = np.array([-0.0673, -0.0336, 0, 0.0336, 0.0673])\n",
    "z_trans = np.array([[0.9727, 0.0273, 0, 0, 0],\n",
    "                    [0.0041, 0.9806, 0.0153, 0, 0],\n",
    "                    [0, 0.0082, 0.9836, 0.0082, 0],\n",
    "                    [0, 0, 0.0153, 0.9806, 0.0041],\n",
    "                    [0, 0, 0, 0.0273, 0.9727]])\n"
   ]
  },
  {
   "cell_type": "markdown",
   "metadata": {},
   "source": [
    "### Value Function Iteration with Fixed Grid\n"
   ]
  },
  {
   "cell_type": "code",
   "execution_count": 2,
   "metadata": {},
   "outputs": [
    {
     "data": {
      "text/plain": [
       "\"\\n# Grids for capital and lagged investment\\nnum_k = 250  # number of grid points for capital\\nnum_i = 50   # number of grid points for investment\\n\\nk_grid = np.linspace(0.7 * k_ss, 1.3 * k_ss, num_k)  # ±30% around k_ss\\ni_grid = np.linspace(0.5 * i_ss, 1.5 * i_ss, num_i)  # ±50% around i_ss\\n\\n# Initialize value function\\nV = np.zeros((num_k, num_i, len(tau_values), len(z_values)))\\n\\n# Helper function to calculate the next capital stock\\ndef next_capital(k, i, i_lag):\\n    return 0.9 * k + (1 - 0.05 * ((i / i_lag) - 1) ** 2) * i\\n\\n# Bellman iteration\\ntol = 1e-6  # convergence tolerance\\nmax_iter = 1000  # max iterations\\n\\nfor iter in range(max_iter):\\n    V_new = np.copy(V)\\n    diff = 0\\n\\n    # Loop over all state variables\\n    for k_idx, k in enumerate(k_grid):\\n        for i_idx, i_lag in enumerate(i_grid):\\n            for tau_idx, tau in enumerate(tau_values):\\n                for z_idx, z in enumerate(z_values):\\n                    \\n                    max_val = -np.inf\\n                    best_c, best_l, best_i = None, None, None\\n\\n                    # Loop over control variables: consumption, labor, investment\\n                    for i in i_grid:\\n                        # Compute the implied consumption and labor\\n                        l = (k ** alpha * np.exp(z)) ** (1/0.67)\\n                        c = (1 - tau) * l + k * alpha * np.exp(z) - i\\n\\n                        # Ensure feasibility\\n                        if c > 0 and l > 0:\\n                            # Government consumption\\n                            g = tau * l\\n\\n                            # Compute utility\\n                            utility = np.log(c) + theta_c * np.log(g) - 0.5 * l ** 2\\n\\n                            # Compute next state and expected value\\n                            k_next = next_capital(k, i, i_lag)\\n\\n                            # Interpolate value function for next period\\n                            v_next = 0\\n                            for tau_next_idx, tau_next in enumerate(tau_values):\\n                                for z_next_idx, z_next in enumerate(z_values):\\n                                    prob_tau = tau_trans[tau_idx, tau_next_idx]\\n                                    prob_z = z_trans[z_idx, z_next_idx]\\n                                    v_next += prob_tau * prob_z * V_new[k_idx, i_idx, tau_next_idx, z_next_idx]\\n\\n                            # Calculate total value\\n                            total_val = utility + beta * v_next\\n\\n                            # Update value function if higher value found\\n                            if total_val > max_val:\\n                                max_val = total_val\\n                                best_c, best_l, best_i = c, l, i\\n\\n                    # Update value function\\n                    V_new[k_idx, i_idx, tau_idx, z_idx] = max_val\\n                    diff = max(diff, abs(V_new[k_idx, i_idx, tau_idx, z_idx] - V[k_idx, i_idx, tau_idx, z_idx]))\\n\\n    # Check for convergence\\n    if diff < tol:\\n        print(f'Converged in {iter + 1} iterations')\\n        break\\n\\n    # Update the value function\\n    V = V_new\\n\\nprint('Value Function Iteration complete.')\\n\\n\""
      ]
     },
     "execution_count": 2,
     "metadata": {},
     "output_type": "execute_result"
    }
   ],
   "source": [
    "'''\n",
    "# Grids for capital and lagged investment\n",
    "num_k = 250  # number of grid points for capital\n",
    "num_i = 50   # number of grid points for investment\n",
    "\n",
    "k_grid = np.linspace(0.7 * k_ss, 1.3 * k_ss, num_k)  # ±30% around k_ss\n",
    "i_grid = np.linspace(0.5 * i_ss, 1.5 * i_ss, num_i)  # ±50% around i_ss\n",
    "\n",
    "# Initialize value function\n",
    "V = np.zeros((num_k, num_i, len(tau_values), len(z_values)))\n",
    "\n",
    "# Helper function to calculate the next capital stock\n",
    "def next_capital(k, i, i_lag):\n",
    "    return 0.9 * k + (1 - 0.05 * ((i / i_lag) - 1) ** 2) * i\n",
    "\n",
    "# Bellman iteration\n",
    "tol = 1e-6  # convergence tolerance\n",
    "max_iter = 1000  # max iterations\n",
    "\n",
    "for iter in range(max_iter):\n",
    "    V_new = np.copy(V)\n",
    "    diff = 0\n",
    "\n",
    "    # Loop over all state variables\n",
    "    for k_idx, k in enumerate(k_grid):\n",
    "        for i_idx, i_lag in enumerate(i_grid):\n",
    "            for tau_idx, tau in enumerate(tau_values):\n",
    "                for z_idx, z in enumerate(z_values):\n",
    "                    \n",
    "                    max_val = -np.inf\n",
    "                    best_c, best_l, best_i = None, None, None\n",
    "\n",
    "                    # Loop over control variables: consumption, labor, investment\n",
    "                    for i in i_grid:\n",
    "                        # Compute the implied consumption and labor\n",
    "                        l = (k ** alpha * np.exp(z)) ** (1/0.67)\n",
    "                        c = (1 - tau) * l + k * alpha * np.exp(z) - i\n",
    "\n",
    "                        # Ensure feasibility\n",
    "                        if c > 0 and l > 0:\n",
    "                            # Government consumption\n",
    "                            g = tau * l\n",
    "\n",
    "                            # Compute utility\n",
    "                            utility = np.log(c) + theta_c * np.log(g) - 0.5 * l ** 2\n",
    "\n",
    "                            # Compute next state and expected value\n",
    "                            k_next = next_capital(k, i, i_lag)\n",
    "\n",
    "                            # Interpolate value function for next period\n",
    "                            v_next = 0\n",
    "                            for tau_next_idx, tau_next in enumerate(tau_values):\n",
    "                                for z_next_idx, z_next in enumerate(z_values):\n",
    "                                    prob_tau = tau_trans[tau_idx, tau_next_idx]\n",
    "                                    prob_z = z_trans[z_idx, z_next_idx]\n",
    "                                    v_next += prob_tau * prob_z * V_new[k_idx, i_idx, tau_next_idx, z_next_idx]\n",
    "\n",
    "                            # Calculate total value\n",
    "                            total_val = utility + beta * v_next\n",
    "\n",
    "                            # Update value function if higher value found\n",
    "                            if total_val > max_val:\n",
    "                                max_val = total_val\n",
    "                                best_c, best_l, best_i = c, l, i\n",
    "\n",
    "                    # Update value function\n",
    "                    V_new[k_idx, i_idx, tau_idx, z_idx] = max_val\n",
    "                    diff = max(diff, abs(V_new[k_idx, i_idx, tau_idx, z_idx] - V[k_idx, i_idx, tau_idx, z_idx]))\n",
    "\n",
    "    # Check for convergence\n",
    "    if diff < tol:\n",
    "        print(f'Converged in {iter + 1} iterations')\n",
    "        break\n",
    "\n",
    "    # Update the value function\n",
    "    V = V_new\n",
    "\n",
    "print('Value Function Iteration complete.')\n",
    "\n",
    "'''"
   ]
  },
  {
   "cell_type": "markdown",
   "metadata": {},
   "source": [
    "### Value Function Iteration with Endogenous Grid"
   ]
  },
  {
   "cell_type": "code",
   "execution_count": null,
   "metadata": {},
   "outputs": [],
   "source": []
  }
 ],
 "metadata": {
  "kernelspec": {
   "display_name": "Python 3",
   "language": "python",
   "name": "python3"
  },
  "language_info": {
   "codemirror_mode": {
    "name": "ipython",
    "version": 3
   },
   "file_extension": ".py",
   "mimetype": "text/x-python",
   "name": "python",
   "nbconvert_exporter": "python",
   "pygments_lexer": "ipython3",
   "version": "3.12.7"
  }
 },
 "nbformat": 4,
 "nbformat_minor": 2
}

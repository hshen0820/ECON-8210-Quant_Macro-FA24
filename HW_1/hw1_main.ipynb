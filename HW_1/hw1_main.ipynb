{
 "cells": [
  {
   "cell_type": "markdown",
   "metadata": {},
   "source": [
    "# Econ 8210 Homework 1, Fall 2024\n",
    "### Numerical Integration and Optimization\n",
    "### Haosi Shen"
   ]
  },
  {
   "cell_type": "code",
   "execution_count": 1,
   "metadata": {},
   "outputs": [],
   "source": [
    "# Housekeeping\n",
    "import numpy as np\n",
    "import pandas as pd\n",
    "import time\n",
    "\n",
    "np.random.seed(42) "
   ]
  },
  {
   "cell_type": "markdown",
   "metadata": {},
   "source": [
    "## 1. Integration\n",
    "\n",
    "Compute\n",
    "\\begin{equation*}\n",
    "\\int_{0}^{T} e^{-\\rho t} u(1-e^{-\\lambda t})\\,dt\n",
    "\\end{equation*}\n",
    "for $T=100$, $\\rho = 0.04$, $\\lambda = 0.02$, and $u(c)=-e^{-c}$ using **quadrature** (midpoint, Trapezoid, and Simpson rule) and Monte Carlo integration."
   ]
  },
  {
   "cell_type": "code",
   "execution_count": 2,
   "metadata": {},
   "outputs": [],
   "source": [
    "# Define Problem\n",
    "T = 100\n",
    "rho = 0.04\n",
    "lambda_ = 0.02\n",
    "\n",
    "def u(c):\n",
    "    return -np.exp(-c)\n",
    "\n",
    "def integrand(t):\n",
    "    return np.exp(-rho * t) * u(1 - np.exp(-lambda_ * t))\n",
    "\n",
    "# Number of intervals/draws\n",
    "n_intervals = np.array([10, 100, 1000, 10000, 100000])"
   ]
  },
  {
   "cell_type": "markdown",
   "metadata": {},
   "source": [
    "### Quadrature Integration"
   ]
  },
  {
   "cell_type": "code",
   "execution_count": 3,
   "metadata": {},
   "outputs": [],
   "source": [
    "# Midpoint\n",
    "def midpoint_quadrature(a, b, n):\n",
    "    start_time = time.time() \n",
    "\n",
    "    h = (b - a) / n\n",
    "    total = 0\n",
    "    for i in range(n):\n",
    "        midpoint = a + (i + 0.5) * h\n",
    "        total += integrand(midpoint)\n",
    "\n",
    "    integral_est = h * total\n",
    "    end_time = time.time()\n",
    "    comp_time = end_time - start_time # record computation time\n",
    "    return integral_est, comp_time\n",
    "\n",
    "vec_midpoint =  np.vectorize(midpoint_quadrature)\n",
    "results_midpoint, times_midpoint = vec_midpoint(0, T, n_intervals)"
   ]
  },
  {
   "cell_type": "code",
   "execution_count": 4,
   "metadata": {},
   "outputs": [],
   "source": [
    "# Trapezoid\n",
    "def trapezoid_quadrature(a, b, n):\n",
    "    start_time = time.time() \n",
    "    \n",
    "    h = (b - a) / n\n",
    "    total = 0.5 * (integrand(a) + integrand(b))\n",
    "    for i in range(1, n):\n",
    "        total += integrand(a + i * h)\n",
    "    \n",
    "    integral_est = h * total\n",
    "    end_time = time.time()\n",
    "    comp_time = end_time - start_time # record computation time\n",
    "    return integral_est, comp_time\n",
    "\n",
    "vec_trapezoid =  np.vectorize(trapezoid_quadrature)\n",
    "results_trapezoid, times_trapezoid = vec_trapezoid(0, T, n_intervals)"
   ]
  },
  {
   "cell_type": "code",
   "execution_count": 5,
   "metadata": {},
   "outputs": [],
   "source": [
    "# Simpson's Rule\n",
    "def simpsons_quadrature(a, b, n):\n",
    "    start_time = time.time() \n",
    "    \n",
    "    if n % 2 == 1:\n",
    "        n += 1  # ensure n is even\n",
    "    h = (b - a) / n\n",
    "    total = integrand(a) + integrand(b)\n",
    "    for i in range(1, n, 2):\n",
    "        total += 4 * integrand(a + i * h)\n",
    "    for i in range(2, n, 2):\n",
    "        total += 2 * integrand(a + i * h)\n",
    "    \n",
    "    integral_est = (h / 3) * total\n",
    "    end_time = time.time()\n",
    "    comp_time = end_time - start_time # record computation time\n",
    "    return integral_est, comp_time\n",
    "\n",
    "vec_simpsons =  np.vectorize(simpsons_quadrature)\n",
    "results_simpsons, times_simpsons = vec_simpsons(0, T, n_intervals)"
   ]
  },
  {
   "cell_type": "markdown",
   "metadata": {},
   "source": [
    "### Monte Carlo Integration"
   ]
  },
  {
   "cell_type": "code",
   "execution_count": 6,
   "metadata": {},
   "outputs": [],
   "source": [
    "def monteCarlo_integration(a, b, n):\n",
    "    start_time = time.time() \n",
    "    \n",
    "    random_points = np.random.uniform(a, b, n)\n",
    "    integral_est = (b - a) * np.mean([integrand(t) \n",
    "                                           for t in random_points])\n",
    "    end_time = time.time()\n",
    "    comp_time = end_time - start_time # record computation time\n",
    "    return integral_est, comp_time\n",
    "\n",
    "vec_monteCarlo =  np.vectorize(monteCarlo_integration)\n",
    "results_monteCarlo, times_monteCarlo = vec_monteCarlo(0, T, n_intervals)"
   ]
  },
  {
   "cell_type": "markdown",
   "metadata": {},
   "source": [
    "### Results"
   ]
  },
  {
   "cell_type": "code",
   "execution_count": 7,
   "metadata": {},
   "outputs": [
    {
     "name": "stdout",
     "output_type": "stream",
     "text": [
      "Integral Estimates\n"
     ]
    },
    {
     "data": {
      "text/html": [
       "<div>\n",
       "<style scoped>\n",
       "    .dataframe tbody tr th:only-of-type {\n",
       "        vertical-align: middle;\n",
       "    }\n",
       "\n",
       "    .dataframe tbody tr th {\n",
       "        vertical-align: top;\n",
       "    }\n",
       "\n",
       "    .dataframe thead th {\n",
       "        text-align: right;\n",
       "    }\n",
       "</style>\n",
       "<table border=\"1\" class=\"dataframe\">\n",
       "  <thead>\n",
       "    <tr style=\"text-align: right;\">\n",
       "      <th></th>\n",
       "      <th>N = 10</th>\n",
       "      <th>N = 100</th>\n",
       "      <th>N = 1000</th>\n",
       "      <th>N = 5000</th>\n",
       "      <th>N = 10000</th>\n",
       "    </tr>\n",
       "  </thead>\n",
       "  <tbody>\n",
       "    <tr>\n",
       "      <th>Midpoint</th>\n",
       "      <td>-17.964420</td>\n",
       "      <td>-18.207039</td>\n",
       "      <td>-18.209501</td>\n",
       "      <td>-18.209525</td>\n",
       "      <td>-18.209525</td>\n",
       "    </tr>\n",
       "    <tr>\n",
       "      <th>Trapezoid</th>\n",
       "      <td>-18.702748</td>\n",
       "      <td>-18.214498</td>\n",
       "      <td>-18.209575</td>\n",
       "      <td>-18.209526</td>\n",
       "      <td>-18.209525</td>\n",
       "    </tr>\n",
       "    <tr>\n",
       "      <th>Simpson's</th>\n",
       "      <td>-18.224641</td>\n",
       "      <td>-18.209527</td>\n",
       "      <td>-18.209525</td>\n",
       "      <td>-18.209525</td>\n",
       "      <td>-18.209525</td>\n",
       "    </tr>\n",
       "    <tr>\n",
       "      <th>Monte Carlo</th>\n",
       "      <td>-24.732456</td>\n",
       "      <td>-20.260672</td>\n",
       "      <td>-18.809211</td>\n",
       "      <td>-18.360223</td>\n",
       "      <td>-18.198811</td>\n",
       "    </tr>\n",
       "  </tbody>\n",
       "</table>\n",
       "</div>"
      ],
      "text/plain": [
       "                N = 10    N = 100   N = 1000   N = 5000  N = 10000\n",
       "Midpoint    -17.964420 -18.207039 -18.209501 -18.209525 -18.209525\n",
       "Trapezoid   -18.702748 -18.214498 -18.209575 -18.209526 -18.209525\n",
       "Simpson's   -18.224641 -18.209527 -18.209525 -18.209525 -18.209525\n",
       "Monte Carlo -24.732456 -20.260672 -18.809211 -18.360223 -18.198811"
      ]
     },
     "metadata": {},
     "output_type": "display_data"
    }
   ],
   "source": [
    "results_integration = pd.DataFrame(np.stack((results_midpoint, results_trapezoid, \n",
    "                                             results_simpsons, results_monteCarlo)),\n",
    "            columns = ['N = 10', 'N = 100', 'N = 1000', 'N = 5000', 'N = 10000'], \n",
    "            index = (['Midpoint', 'Trapezoid', 'Simpson\\'s', 'Monte Carlo']))\n",
    "\n",
    "\n",
    "print(\"Integral Estimates\")\n",
    "display(results_integration)"
   ]
  },
  {
   "cell_type": "code",
   "execution_count": 8,
   "metadata": {},
   "outputs": [
    {
     "name": "stdout",
     "output_type": "stream",
     "text": [
      "Computation Time (seconds)\n"
     ]
    },
    {
     "data": {
      "text/html": [
       "<div>\n",
       "<style scoped>\n",
       "    .dataframe tbody tr th:only-of-type {\n",
       "        vertical-align: middle;\n",
       "    }\n",
       "\n",
       "    .dataframe tbody tr th {\n",
       "        vertical-align: top;\n",
       "    }\n",
       "\n",
       "    .dataframe thead th {\n",
       "        text-align: right;\n",
       "    }\n",
       "</style>\n",
       "<table border=\"1\" class=\"dataframe\">\n",
       "  <thead>\n",
       "    <tr style=\"text-align: right;\">\n",
       "      <th></th>\n",
       "      <th>N = 10</th>\n",
       "      <th>N = 100</th>\n",
       "      <th>N = 1000</th>\n",
       "      <th>N = 5000</th>\n",
       "      <th>N = 10000</th>\n",
       "    </tr>\n",
       "  </thead>\n",
       "  <tbody>\n",
       "    <tr>\n",
       "      <th>Midpoint</th>\n",
       "      <td>0.000016</td>\n",
       "      <td>0.000137</td>\n",
       "      <td>0.001410</td>\n",
       "      <td>0.014347</td>\n",
       "      <td>0.146615</td>\n",
       "    </tr>\n",
       "    <tr>\n",
       "      <th>Trapezoid</th>\n",
       "      <td>0.000020</td>\n",
       "      <td>0.000166</td>\n",
       "      <td>0.001446</td>\n",
       "      <td>0.014592</td>\n",
       "      <td>0.189524</td>\n",
       "    </tr>\n",
       "    <tr>\n",
       "      <th>Simpson's</th>\n",
       "      <td>0.000019</td>\n",
       "      <td>0.000142</td>\n",
       "      <td>0.001401</td>\n",
       "      <td>0.014641</td>\n",
       "      <td>0.143357</td>\n",
       "    </tr>\n",
       "    <tr>\n",
       "      <th>Monte Carlo</th>\n",
       "      <td>0.000032</td>\n",
       "      <td>0.000156</td>\n",
       "      <td>0.001482</td>\n",
       "      <td>0.015456</td>\n",
       "      <td>0.139798</td>\n",
       "    </tr>\n",
       "  </tbody>\n",
       "</table>\n",
       "</div>"
      ],
      "text/plain": [
       "               N = 10   N = 100  N = 1000  N = 5000  N = 10000\n",
       "Midpoint     0.000016  0.000137  0.001410  0.014347   0.146615\n",
       "Trapezoid    0.000020  0.000166  0.001446  0.014592   0.189524\n",
       "Simpson's    0.000019  0.000142  0.001401  0.014641   0.143357\n",
       "Monte Carlo  0.000032  0.000156  0.001482  0.015456   0.139798"
      ]
     },
     "metadata": {},
     "output_type": "display_data"
    }
   ],
   "source": [
    "times_integration = pd.DataFrame(np.stack((times_midpoint, times_trapezoid, \n",
    "                                             times_simpsons, times_monteCarlo)),\n",
    "            columns = ['N = 10', 'N = 100', 'N = 1000', 'N = 5000', 'N = 10000'], \n",
    "            index = (['Midpoint', 'Trapezoid', 'Simpson\\'s', 'Monte Carlo']))\n",
    "\n",
    "print(\"Computation Time (seconds)\")\n",
    "display(times_integration)"
   ]
  },
  {
   "cell_type": "markdown",
   "metadata": {},
   "source": [
    "In alignment with the theoretical properties of each method,\n",
    "> * The quadrature methods provide accurate results as the number of intervals $N$ increases, with Simpson's rule converging the fastest.\n",
    "> * Monte Carlo integration has more variability but still trends toward the true value with higher number of draws $N$.\n",
    "> * Regarding computation time, Midpoint and Simpson’s methods are generally faster and more efficient. Monte Carlo integration becomes competitive at larger $N$, while the trapezoid rule is generally slower.\n",
    "\n",
    "In general, quadrature methods are faster and more accurate for lower-dimension problems and smaller $N$, whereas Monte Carlo becomes more competitive at large $N$ and higher dimensions. "
   ]
  },
  {
   "cell_type": "markdown",
   "metadata": {},
   "source": [
    "## 2. Optimization\n"
   ]
  },
  {
   "cell_type": "markdown",
   "metadata": {},
   "source": []
  },
  {
   "cell_type": "code",
   "execution_count": null,
   "metadata": {},
   "outputs": [],
   "source": []
  }
 ],
 "metadata": {
  "kernelspec": {
   "display_name": "Python 3",
   "language": "python",
   "name": "python3"
  },
  "language_info": {
   "codemirror_mode": {
    "name": "ipython",
    "version": 3
   },
   "file_extension": ".py",
   "mimetype": "text/x-python",
   "name": "python",
   "nbconvert_exporter": "python",
   "pygments_lexer": "ipython3",
   "version": "3.12.7"
  }
 },
 "nbformat": 4,
 "nbformat_minor": 2
}

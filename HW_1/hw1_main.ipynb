{
 "cells": [
  {
   "cell_type": "markdown",
   "metadata": {},
   "source": [
    "# Econ 8210 Homework 1, Fall 2024\n",
    "### Numerical Methods and Dynamic Programming\n",
    "### Haosi Shen"
   ]
  },
  {
   "cell_type": "code",
   "execution_count": 1,
   "metadata": {},
   "outputs": [],
   "source": [
    "# Housekeeping\n",
    "import numpy as np"
   ]
  },
  {
   "cell_type": "markdown",
   "metadata": {},
   "source": [
    "## 1. Integration\n",
    "\n",
    "Compute\n",
    "\\begin{equation*}\n",
    "\\int_{0}^{T} e^{-\\rho t} u(1-e^{-\\lambda t})\\,dt\n",
    "\\end{equation*}\n",
    "for $T=100$, $\\rho = 0.04$, $\\lambda = 0.02$, and $u(c)=-e^{-c}$ using **quadrature** (midpoint, Trapezoid, and Simpson rule) and Monte Carlo integration."
   ]
  },
  {
   "cell_type": "code",
   "execution_count": 3,
   "metadata": {},
   "outputs": [],
   "source": [
    "# Define Problem\n",
    "T = 100\n",
    "rho = 0.04\n",
    "lambda_ = 0.02\n",
    "\n",
    "def u(c):\n",
    "    return -np.exp(-c)\n",
    "\n",
    "def integrand(t):\n",
    "    return np.exp(-rho * t) * u(1 - np.exp(-lambda_ * t))"
   ]
  },
  {
   "cell_type": "markdown",
   "metadata": {},
   "source": [
    "### Quadrature Integration"
   ]
  },
  {
   "cell_type": "code",
   "execution_count": 8,
   "metadata": {},
   "outputs": [
    {
     "name": "stdout",
     "output_type": "stream",
     "text": [
      "Integral using midpoint quadrature: -18.2095\n"
     ]
    }
   ],
   "source": [
    "# Midpoint\n",
    "def midpoint_quadrature(a, b, n):\n",
    "    h = (b - a) / n\n",
    "    total = 0\n",
    "    for i in range(n):\n",
    "        midpoint = a + (i + 0.5) * h\n",
    "        total += integrand(midpoint)\n",
    "    return h * total\n",
    "\n",
    "n_intervals = 1000      # number of intervals, for adjusting accuracy\n",
    "result_midpoint = midpoint_quadrature(0, T, n_intervals)\n"
   ]
  },
  {
   "cell_type": "code",
   "execution_count": 9,
   "metadata": {},
   "outputs": [],
   "source": [
    "# Trapezoid\n",
    "def trapezoid_quadrature(a, b, n):\n",
    "    h = (b - a) / n\n",
    "    total = 0.5 * (integrand(a) + integrand(b))\n",
    "    for i in range(1, n):\n",
    "        total += integrand(a + i * h)\n",
    "    return h * total\n",
    "\n",
    "result_trapezoid = trapezoid_quadrature(0, T, n_intervals)"
   ]
  },
  {
   "cell_type": "code",
   "execution_count": 12,
   "metadata": {},
   "outputs": [
    {
     "name": "stdout",
     "output_type": "stream",
     "text": [
      "Integral using midpoint quadrature: -18.209500537291202\n",
      "Integral using trapezoid quadrature: -18.209575125392796\n"
     ]
    }
   ],
   "source": [
    "print(\"Integral using midpoint quadrature:\", result_midpoint)\n",
    "print(\"Integral using trapezoid quadrature:\", result_trapezoid)"
   ]
  },
  {
   "cell_type": "markdown",
   "metadata": {},
   "source": [
    "### Monte Carlo Integration"
   ]
  },
  {
   "cell_type": "code",
   "execution_count": null,
   "metadata": {},
   "outputs": [],
   "source": []
  }
 ],
 "metadata": {
  "kernelspec": {
   "display_name": "Python 3",
   "language": "python",
   "name": "python3"
  },
  "language_info": {
   "codemirror_mode": {
    "name": "ipython",
    "version": 3
   },
   "file_extension": ".py",
   "mimetype": "text/x-python",
   "name": "python",
   "nbconvert_exporter": "python",
   "pygments_lexer": "ipython3",
   "version": "3.12.7"
  }
 },
 "nbformat": 4,
 "nbformat_minor": 2
}
